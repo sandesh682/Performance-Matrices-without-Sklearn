{
 "cells": [
  {
   "cell_type": "markdown",
   "metadata": {
    "colab_type": "text",
    "id": "s0Ej_bXyQvnV"
   },
   "source": [
    "# Compute performance metrics for the given Y and Y_score without sklearn"
   ]
  },
  {
   "cell_type": "code",
   "execution_count": 2,
   "metadata": {
    "colab": {},
    "colab_type": "code",
    "id": "4CHb6NE7Qvnc"
   },
   "outputs": [],
   "source": [
    "import numpy as np\n",
    "import pandas as pd"
   ]
  },
  {
   "cell_type": "markdown",
   "metadata": {
    "colab_type": "text",
    "id": "KbsWXuDaQvnq"
   },
   "source": [
    "<pre>\n",
    "<font color='red'><b>A.</b></font> Compute performance metrics for the given data <strong>5_a.csv</strong>\n",
    "   <b>Note 1:</b> in this data you can see number of positive points >> number of negatives points\n",
    "   <b>Note 2:</b> use pandas or numpy to read the data from <b>5_a.csv</b>\n",
    "   <b>Note 3:</b> you need to derive the class labels from given score</pre> $y^{pred}= \\text{[0 if y_score < 0.5 else 1]}$\n",
    "\n",
    "<pre>\n",
    "<ol>\n",
    "<li> Compute Confusion Matrix </li>\n",
    "<li> Compute F1 Score </li>\n",
    "<li> Compute AUC Score, you need to compute different thresholds and for each threshold compute tpr,fpr and then use               numpy.trapz(tpr_array, fpr_array) <a href='https://stackoverflow.com/q/53603376/4084039'>https://stackoverflow.com/q/53603376/4084039</a>, <a href='https://stackoverflow.com/a/39678975/4084039'>https://stackoverflow.com/a/39678975/4084039</a> Note: it should be numpy.trapz(tpr_array, fpr_array) not numpy.trapz(fpr_array, tpr_array)</li>\n",
    "<li> Compute Accuracy Score </li>\n",
    "</ol>\n",
    "</pre>"
   ]
  },
  {
   "cell_type": "code",
   "execution_count": 31,
   "metadata": {
    "colab": {},
    "colab_type": "code",
    "id": "WaFLW7oBQvnt"
   },
   "outputs": [],
   "source": [
    "temp_a = pd.read_csv('5_a.csv')"
   ]
  },
  {
   "cell_type": "code",
   "execution_count": 32,
   "metadata": {
    "colab": {},
    "colab_type": "code",
    "id": "WaFLW7oBQvnt"
   },
   "outputs": [],
   "source": [
    "y_pred = []\n",
    "\n",
    "for ind in temp_a.index:\n",
    "    if temp_a['proba'][ind] >= 0.5:\n",
    "        y_pred.append(1)\n",
    "    else:\n",
    "        y_pred.append(0)\n",
    "        \n",
    "temp_a['y_pred'] = y_pred"
   ]
  },
  {
   "cell_type": "code",
   "execution_count": 33,
   "metadata": {
    "colab": {},
    "colab_type": "code",
    "id": "WaFLW7oBQvnt"
   },
   "outputs": [
    {
     "name": "stdout",
     "output_type": "stream",
     "text": [
      "Confusion matrix is:\n",
      "[[0, 0], [100, 10000]]\n"
     ]
    }
   ],
   "source": [
    "TP = 0\n",
    "TN = 0\n",
    "FP = 0\n",
    "FN = 0\n",
    "\n",
    "for ind in temp_a.index:\n",
    "    if temp_a['y'][ind] == 1 and temp_a['y_pred'][ind] == 1:\n",
    "        TP = TP + 1\n",
    "    elif temp_a['y'][ind] == 0 and temp_a['y_pred'][ind] == 0:\n",
    "        TN = TN + 1\n",
    "    elif temp_a['y'][ind] == 1 and temp_a['y_pred'][ind] == 0:\n",
    "        FN = FN + 1\n",
    "    else:\n",
    "        FP = FP + 1    \n",
    "\n",
    "                \n",
    "w, h = 2, 2;\n",
    "A = [[0 for x in range(w)] for y in range(h)]        \n",
    "\n",
    "A[0][0] = TN\n",
    "A[0][1] = FN\n",
    "A[1][0] = FP\n",
    "A[1][1] = TP\n",
    "        \n",
    "        \n",
    "print(\"Confusion matrix is:\")        \n",
    "print(A)"
   ]
  },
  {
   "cell_type": "code",
   "execution_count": 34,
   "metadata": {
    "colab": {},
    "colab_type": "code",
    "id": "WaFLW7oBQvnt"
   },
   "outputs": [
    {
     "name": "stdout",
     "output_type": "stream",
     "text": [
      "F1 Score value is:\n",
      "0.9950248756218906\n"
     ]
    }
   ],
   "source": [
    "Precision = (TP)/(TP+FP)\n",
    "\n",
    "Recall = (TP)/(TP+FN)\n",
    "\n",
    "f1_score = (2*Precision*Recall)/(Precision+Recall)\n",
    "print(\"F1 Score value is:\")\n",
    "print(f1_score)"
   ]
  },
  {
   "cell_type": "code",
   "execution_count": 35,
   "metadata": {
    "colab": {},
    "colab_type": "code",
    "id": "WaFLW7oBQvnt"
   },
   "outputs": [
    {
     "name": "stdout",
     "output_type": "stream",
     "text": [
      "Accurancy Score value is:\n",
      "0.9900990099009901\n"
     ]
    }
   ],
   "source": [
    "accu_score = (TP + TN)/(TP+TN+FP+FN)\n",
    "print(\"Accurancy Score value is:\")\n",
    "print(accu_score)"
   ]
  },
  {
   "cell_type": "code",
   "execution_count": 36,
   "metadata": {
    "colab": {},
    "colab_type": "code",
    "id": "WaFLW7oBQvnt"
   },
   "outputs": [],
   "source": [
    "temp_a = temp_a.sort_values(['proba'], ascending=[False])"
   ]
  },
  {
   "cell_type": "code",
   "execution_count": 37,
   "metadata": {
    "colab": {},
    "colab_type": "code",
    "id": "WaFLW7oBQvnt"
   },
   "outputs": [
    {
     "name": "stderr",
     "output_type": "stream",
     "text": [
      "100%|███████████████████████████████████████████████████████████████████████████| 10100/10100 [01:15<00:00, 133.74it/s]\n"
     ]
    }
   ],
   "source": [
    "TPR = 0\n",
    "FPR = 0\n",
    "\n",
    "TP = 0\n",
    "TN = 0\n",
    "FP = 0\n",
    "FN = 0\n",
    "\n",
    "points_TPR = []\n",
    "\n",
    "points_FPR = []   \n",
    "\n",
    "from tqdm import tqdm       \n",
    "\n",
    "y_thresh = []\n",
    "\n",
    "count = 0\n",
    "length = 1\n",
    "add = []\n",
    "sub = []\n",
    "\n",
    "for ind in tqdm(temp_a.index):\n",
    "    \n",
    "    y_thresh = [1] * length\n",
    "\n",
    "    len_y_thresh = len(y_thresh)\n",
    "\n",
    "    for i in range(len_y_thresh,len(temp_a)):\n",
    "        y_thresh.append(0)  \n",
    "\n",
    "    temp_a['y_pred'] = y_thresh\n",
    "\n",
    "    add = temp_a['y_pred'] + temp_a['y']\n",
    "    sub = temp_a['y'] - temp_a['y_pred']\n",
    "    \n",
    "    try:\n",
    "        TP = add.value_counts()[2]\n",
    "    except:\n",
    "        TP = 0      \n",
    "    try:\n",
    "        TN = add.value_counts()[0]\n",
    "    except: \n",
    "        TN = 0\n",
    "    try:\n",
    "        FN = sub.value_counts()[1]\n",
    "    except:\n",
    "        FN = 0\n",
    "\n",
    "    try:\n",
    "        FP = sub.value_counts()[-1]\n",
    "    except:\n",
    "        FP =0                         \n",
    "    \n",
    "    TPR = TP / (TP+FN)\n",
    "    FPR = FP / (FP+TN)\n",
    "    \n",
    "    points_TPR.append(TPR)\n",
    "    points_FPR.append(FPR)\n",
    "    \n",
    "    TPR = 0\n",
    "    FPR = 0\n",
    "\n",
    "    length = length + 1 \n",
    "    y_thresh = []\n",
    "    #print(temp_a)\n",
    "    count = count + 1    "
   ]
  },
  {
   "cell_type": "code",
   "execution_count": 38,
   "metadata": {
    "colab": {},
    "colab_type": "code",
    "id": "WaFLW7oBQvnt"
   },
   "outputs": [
    {
     "name": "stdout",
     "output_type": "stream",
     "text": [
      "Area Under the Curve is: 0.48829900000000004\n"
     ]
    }
   ],
   "source": [
    "x = np.array(points_TPR)\n",
    "y = np.array(points_FPR)\n",
    "print(\"Area Under the Curve is:\",np.trapz(x, y))"
   ]
  },
  {
   "cell_type": "markdown",
   "metadata": {
    "colab_type": "text",
    "id": "V5KZem1BQvn2"
   },
   "source": [
    "<pre>\n",
    "<font color='red'><b>B.</b></font> Compute performance metrics for the given data <strong>5_b.csv</strong>\n",
    "   <b>Note 1:</b> in this data you can see number of positive points << number of negatives points\n",
    "   <b>Note 2:</b> use pandas or numpy to read the data from <b>5_b.csv</b>\n",
    "   <b>Note 3:</b> you need to derive the class labels from given score</pre> $y^{pred}= \\text{[0 if y_score < 0.5 else 1]}$\n",
    "\n",
    "<pre>\n",
    "<ol>\n",
    "<li> Compute Confusion Matrix </li>\n",
    "<li> Compute F1 Score </li>\n",
    "<li> Compute AUC Score, you need to compute different thresholds and for each threshold compute tpr,fpr and then use               numpy.trapz(tpr_array, fpr_array) <a href='https://stackoverflow.com/q/53603376/4084039'>https://stackoverflow.com/q/53603376/4084039</a>, <a href='https://stackoverflow.com/a/39678975/4084039'>https://stackoverflow.com/a/39678975/4084039</a></li>\n",
    "<li> Compute Accuracy Score </li>\n",
    "</ol>\n",
    "</pre>"
   ]
  },
  {
   "cell_type": "code",
   "execution_count": 39,
   "metadata": {
    "colab": {},
    "colab_type": "code",
    "id": "U2sKlq0YQvn5"
   },
   "outputs": [],
   "source": [
    "temp_b = pd.read_csv('5_b.csv')"
   ]
  },
  {
   "cell_type": "code",
   "execution_count": 40,
   "metadata": {
    "colab": {},
    "colab_type": "code",
    "id": "WaFLW7oBQvnt"
   },
   "outputs": [],
   "source": [
    "y_pred = []\n",
    "\n",
    "for ind in temp_b.index:\n",
    "    if temp_b['proba'][ind] >= 0.5:\n",
    "        y_pred.append(1)\n",
    "    else:\n",
    "        y_pred.append(0)\n",
    "        \n",
    "temp_b['y_pred'] = y_pred"
   ]
  },
  {
   "cell_type": "code",
   "execution_count": 41,
   "metadata": {
    "colab": {},
    "colab_type": "code",
    "id": "WaFLW7oBQvnt"
   },
   "outputs": [
    {
     "name": "stdout",
     "output_type": "stream",
     "text": [
      "Confusion matrix is:\n",
      "[[9761, 45], [239, 55]]\n"
     ]
    }
   ],
   "source": [
    "TP = 0\n",
    "TN = 0\n",
    "FP = 0\n",
    "FN = 0\n",
    "\n",
    "for ind in temp_b.index:\n",
    "    if temp_b['y'][ind] == 1 and temp_b['y_pred'][ind] == 1:\n",
    "        TP = TP + 1\n",
    "    elif temp_b['y'][ind] == 0 and temp_b['y_pred'][ind] == 0:\n",
    "        TN = TN + 1\n",
    "    elif temp_b['y'][ind] == 1 and temp_b['y_pred'][ind] == 0:\n",
    "        FN = FN + 1\n",
    "    else:\n",
    "        FP = FP + 1    \n",
    "\n",
    "                \n",
    "w, h = 2, 2;\n",
    "A = [[0 for x in range(w)] for y in range(h)]        \n",
    "\n",
    "A[0][0] = TN\n",
    "A[0][1] = FN\n",
    "A[1][0] = FP\n",
    "A[1][1] = TP\n",
    "        \n",
    "        \n",
    "print(\"Confusion matrix is:\")        \n",
    "print(A)"
   ]
  },
  {
   "cell_type": "code",
   "execution_count": 42,
   "metadata": {
    "colab": {},
    "colab_type": "code",
    "id": "WaFLW7oBQvnt"
   },
   "outputs": [
    {
     "name": "stdout",
     "output_type": "stream",
     "text": [
      "F1 Score value is:\n",
      "0.2791878172588833\n"
     ]
    }
   ],
   "source": [
    "Precision = (TP)/(TP+FP)\n",
    "\n",
    "Recall = (TP)/(TP+FN)\n",
    "\n",
    "f1_score = (2*Precision*Recall)/(Precision+Recall)\n",
    "print(\"F1 Score value is:\")\n",
    "print(f1_score)"
   ]
  },
  {
   "cell_type": "code",
   "execution_count": 43,
   "metadata": {
    "colab": {},
    "colab_type": "code",
    "id": "WaFLW7oBQvnt"
   },
   "outputs": [
    {
     "name": "stdout",
     "output_type": "stream",
     "text": [
      "Accurancy Score value is:\n",
      "0.9718811881188119\n"
     ]
    }
   ],
   "source": [
    "accu_score = (TP + TN)/(TP+TN+FP+FN)\n",
    "print(\"Accurancy Score value is:\")\n",
    "print(accu_score)"
   ]
  },
  {
   "cell_type": "code",
   "execution_count": 44,
   "metadata": {
    "colab": {},
    "colab_type": "code",
    "id": "WaFLW7oBQvnt"
   },
   "outputs": [],
   "source": [
    "temp_b = temp_b.sort_values(['proba'], ascending=[False])"
   ]
  },
  {
   "cell_type": "code",
   "execution_count": 45,
   "metadata": {
    "colab": {},
    "colab_type": "code",
    "id": "WaFLW7oBQvnt"
   },
   "outputs": [
    {
     "name": "stderr",
     "output_type": "stream",
     "text": [
      "100%|███████████████████████████████████████████████████████████████████████████| 10100/10100 [01:17<00:00, 130.23it/s]\n"
     ]
    }
   ],
   "source": [
    "TPR = 0\n",
    "FPR = 0\n",
    "\n",
    "TP = 0\n",
    "TN = 0\n",
    "FP = 0\n",
    "FN = 0\n",
    "\n",
    "points_TPR = []\n",
    "\n",
    "points_FPR = []   \n",
    "\n",
    "from tqdm import tqdm       \n",
    "\n",
    "y_thresh = []\n",
    "\n",
    "count = 0\n",
    "length = 1\n",
    "add = []\n",
    "sub = []\n",
    "\n",
    "for ind in tqdm(temp_b.index):\n",
    "    \n",
    "    y_thresh = [1] * length\n",
    "\n",
    "    len_y_thresh = len(y_thresh)\n",
    "\n",
    "    for i in range(len_y_thresh,len(temp_b)):\n",
    "        y_thresh.append(0)  \n",
    "\n",
    "    temp_b['y_pred'] = y_thresh\n",
    "\n",
    "    add = temp_b['y_pred'] + temp_b['y']\n",
    "    sub = temp_b['y'] - temp_b['y_pred']\n",
    "    \n",
    "    try:\n",
    "        TP = add.value_counts()[2]\n",
    "    except:\n",
    "        TP = 0      \n",
    "    try:\n",
    "        TN = add.value_counts()[0]\n",
    "    except: \n",
    "        TN = 0\n",
    "    try:\n",
    "        FN = sub.value_counts()[1]\n",
    "    except:\n",
    "        FN = 0\n",
    "\n",
    "    try:\n",
    "        FP = sub.value_counts()[-1]\n",
    "    except:\n",
    "        FP =0                         \n",
    "    \n",
    "    TPR = TP / (TP+FN)\n",
    "    FPR = FP / (FP+TN)\n",
    "    \n",
    "    points_TPR.append(TPR)\n",
    "    points_FPR.append(FPR)\n",
    "    \n",
    "    TPR = 0\n",
    "    FPR = 0\n",
    "\n",
    "    length = length + 1 \n",
    "    y_thresh = []\n",
    "    #print(temp_b)\n",
    "    count = count + 1    "
   ]
  },
  {
   "cell_type": "code",
   "execution_count": 46,
   "metadata": {
    "colab": {},
    "colab_type": "code",
    "id": "WaFLW7oBQvnt"
   },
   "outputs": [
    {
     "name": "stdout",
     "output_type": "stream",
     "text": [
      "Area Under the Curve is: 0.9377570000000001\n"
     ]
    }
   ],
   "source": [
    "x = np.array(points_TPR)\n",
    "y = np.array(points_FPR)\n",
    "print(\"Area Under the Curve is:\",np.trapz(x, y))"
   ]
  },
  {
   "cell_type": "markdown",
   "metadata": {
    "colab_type": "text",
    "id": "GiPGonTzQvoB"
   },
   "source": [
    "<font color='red'><b>C.</b></font> Compute the best threshold (similarly to ROC curve computation) of probability which gives lowest values of metric <b>A</b> for the given data <strong>5_c.csv</strong>\n",
    "<br>\n",
    "\n",
    "you will be predicting label of a data points like this: $y^{pred}= \\text{[0 if y_score < threshold  else 1]}$\n",
    "\n",
    "$ A = 500 \\times \\text{number of false negative} + 100 \\times \\text{numebr of false positive}$\n",
    "\n",
    "<pre>\n",
    "   <b>Note 1:</b> in this data you can see number of negative points > number of positive points\n",
    "   <b>Note 2:</b> use pandas or numpy to read the data from <b>5_c.csv</b>\n",
    "</pre>"
   ]
  },
  {
   "cell_type": "code",
   "execution_count": 21,
   "metadata": {
    "colab": {},
    "colab_type": "code",
    "id": "x5HIJzq1QvoE"
   },
   "outputs": [],
   "source": [
    "temp_c = pd.read_csv('5_c.csv')"
   ]
  },
  {
   "cell_type": "code",
   "execution_count": 22,
   "metadata": {
    "colab": {},
    "colab_type": "code",
    "id": "WaFLW7oBQvnt"
   },
   "outputs": [],
   "source": [
    "temp_c = temp_c.sort_values(['prob'], ascending=[False])"
   ]
  },
  {
   "cell_type": "code",
   "execution_count": 23,
   "metadata": {
    "colab": {},
    "colab_type": "code",
    "id": "WaFLW7oBQvnt"
   },
   "outputs": [
    {
     "name": "stderr",
     "output_type": "stream",
     "text": [
      "100%|█████████████████████████████████████████████████████████████████████████████| 2852/2852 [00:07<00:00, 362.74it/s]\n"
     ]
    }
   ],
   "source": [
    "TPR = 0\n",
    "FPR = 0\n",
    "\n",
    "TP = 0\n",
    "TN = 0\n",
    "FP = 0\n",
    "FN = 0\n",
    "\n",
    "value = 0\n",
    "choose_best = []\n",
    "store_threshold = []\n",
    "\n",
    "from tqdm import tqdm       \n",
    "\n",
    "y_thresh = []\n",
    "\n",
    "length = 1\n",
    "add = []\n",
    "sub = []\n",
    "\n",
    "for ind in tqdm(temp_c.index):\n",
    "    \n",
    "    #print(threshold)\n",
    "    threshold = temp_c['prob'][ind]\n",
    "    y_thresh = [1] * length\n",
    "\n",
    "    len_y_thresh = len(y_thresh)\n",
    "\n",
    "    for i in range(len_y_thresh,len(temp_c)):\n",
    "        y_thresh.append(0)  \n",
    "\n",
    "    temp_c['y_pred'] = y_thresh\n",
    "\n",
    "    sub = temp_c['y'] - temp_c['y_pred']\n",
    "    \n",
    "    try:\n",
    "        FN = sub.value_counts()[1]\n",
    "    except:\n",
    "        FN = 0\n",
    "\n",
    "    try:\n",
    "        FP = sub.value_counts()[-1]\n",
    "    except:\n",
    "        FP =0                         \n",
    "    \n",
    "    value = (500 * FN) + (100 * FP)\n",
    "    \n",
    "    choose_best.append(value)\n",
    "    store_threshold.append(threshold)\n",
    "\n",
    "    length = length + 1 \n",
    "    y_thresh = []    "
   ]
  },
  {
   "cell_type": "code",
   "execution_count": 25,
   "metadata": {
    "colab": {},
    "colab_type": "code",
    "id": "WaFLW7oBQvnt"
   },
   "outputs": [
    {
     "name": "stdout",
     "output_type": "stream",
     "text": [
      "The best threshold value is: 0.2300390278970873\n"
     ]
    }
   ],
   "source": [
    "minpos = choose_best.index(min(choose_best))\n",
    "\n",
    "print(\"The best threshold value is:\",store_threshold[minpos])"
   ]
  },
  {
   "cell_type": "markdown",
   "metadata": {
    "colab_type": "text",
    "id": "sD4CcgjXQvoL"
   },
   "source": [
    "<pre>\n",
    "<font color='red'><b>D.</b></font> Compute performance metrics(for regression) for the given data <strong>5_d.csv</strong>\n",
    "    <b>Note 2:</b> use pandas or numpy to read the data from <b>5_d.csv</b>\n",
    "    <b>Note 1:</b> <b>5_d.csv</b> will having two columns Y and predicted_Y both are real valued features\n",
    "<ol>\n",
    "<li> Compute Mean Square Error </li>\n",
    "<li> Compute MAPE: https://www.youtube.com/watch?v=ly6ztgIkUxk</li>\n",
    "<li> Compute R^2 error: https://en.wikipedia.org/wiki/Coefficient_of_determination#Definitions </li>\n",
    "</ol>\n",
    "</pre>"
   ]
  },
  {
   "cell_type": "code",
   "execution_count": 28,
   "metadata": {},
   "outputs": [],
   "source": [
    "temp_d = pd.read_csv('5_d.csv')"
   ]
  },
  {
   "cell_type": "code",
   "execution_count": 32,
   "metadata": {},
   "outputs": [
    {
     "name": "stdout",
     "output_type": "stream",
     "text": [
      "Mean Square Error =  177\n",
      "MAPE =  12.91202994009687\n",
      "R^2 Error =  0.9563582786990964\n"
     ]
    }
   ],
   "source": [
    "summ = 0\n",
    "avg_y = 0\n",
    "abs_sub = 0\n",
    "MAPE = 0\n",
    "MSE = 0\n",
    "sstotal = 0\n",
    "r2error = 0\n",
    " \n",
    "\n",
    "mean_of_y = temp_d['y'].mean()\n",
    "\n",
    "count = 0\n",
    "for ind in temp_d.index:\n",
    "    summ = summ + (temp_d['y'][ind] - temp_d['pred'][ind]) * (temp_d['y'][ind] - temp_d['pred'][ind])\n",
    "    abs_sub = abs_sub + abs(temp_d['y'][ind] - temp_d['pred'][ind])\n",
    "    sstotal = sstotal + (temp_d['y'][ind] - mean_of_y) * (temp_d['y'][ind] - mean_of_y)\n",
    "            \n",
    "MSE = int(summ / len(temp_d))\n",
    "MAPE = (abs_sub / sum(temp_d['y']))*100\n",
    "r2error = 1 - (summ/sstotal)\n",
    "\n",
    "print(\"Mean Square Error = \",MSE)\n",
    "print(\"MAPE = \",MAPE)\n",
    "print(\"R^2 Error = \",r2error)"
   ]
  }
 ],
 "metadata": {
  "colab": {
   "collapsed_sections": [],
   "name": "5_Performance_metrics_Instructions.ipynb",
   "provenance": []
  },
  "kernelspec": {
   "display_name": "Python 3",
   "language": "python",
   "name": "python3"
  },
  "language_info": {
   "codemirror_mode": {
    "name": "ipython",
    "version": 3
   },
   "file_extension": ".py",
   "mimetype": "text/x-python",
   "name": "python",
   "nbconvert_exporter": "python",
   "pygments_lexer": "ipython3",
   "version": "3.6.5"
  }
 },
 "nbformat": 4,
 "nbformat_minor": 1
}
